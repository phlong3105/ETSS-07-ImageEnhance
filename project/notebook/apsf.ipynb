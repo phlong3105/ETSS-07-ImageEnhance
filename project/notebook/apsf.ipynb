{
 "cells": [
  {
   "metadata": {},
   "cell_type": "markdown",
   "source": "# Atmosphere Point Spread Function (APSF)",
   "id": "68d796cc5567311"
  },
  {
   "metadata": {},
   "cell_type": "code",
   "source": [
    "import torch\n",
    "\n",
    "import mon\n",
    "\n",
    "device = \"cuda\" if torch.cuda.is_available() else \"cpu\"\n",
    "print(device)\n",
    "torch.manual_seed(0)"
   ],
   "id": "511567f500b9cf87",
   "outputs": [],
   "execution_count": null
  },
  {
   "metadata": {},
   "cell_type": "markdown",
   "source": "## Initialization",
   "id": "6c6edfef175fe62c"
  },
  {
   "metadata": {},
   "cell_type": "code",
   "source": [
    "image_file    = mon.Path(\"data/apsf/0009.png\")\n",
    "output_dir    = \"run/apsf\"\n",
    "save_images   = True\n",
    "\n",
    "mon.Path(output_dir).mkdir(parents=True, exist_ok=True)\n",
    "\n",
    "\n",
    "img = mon.read_image(image_file, to_tensor=True, normalize=True)\n",
    "print(img.shape)\n",
    "\n",
    "# img_np = mon.read_image(image_file, to_tensor=False, normalize=False)\n",
    "# print(img_np.shape)"
   ],
   "id": "d03650e721e1fe5",
   "outputs": [],
   "execution_count": null
  },
  {
   "metadata": {},
   "cell_type": "markdown",
   "source": "## Processing",
   "id": "1427a9d49b5d3429"
  },
  {
   "metadata": {},
   "cell_type": "code",
   "source": [
    "apsf = mon.atmospheric_point_spread_function(img, q=0.2, T=1.2, k=0.5)\n",
    "# apsf_np = mon.atmospheric_point_spread_function(img_np, q=0.2, T=1.2, k=0.5)"
   ],
   "id": "aa0fc884137b9dc4",
   "outputs": [],
   "execution_count": null
  },
  {
   "metadata": {},
   "cell_type": "code",
   "source": "# clean_img = apsf / img",
   "id": "76e6e19e85191b",
   "outputs": [],
   "execution_count": null
  },
  {
   "metadata": {},
   "cell_type": "code",
   "source": [
    "apsf_np   = mon.convert_image_to_array(apsf, denormalize=True)\n",
    "# clean_img = mon.to_image_nparray(clean_img, denormalize=True)"
   ],
   "id": "5e203aa33f7aebeb",
   "outputs": [],
   "execution_count": null
  },
  {
   "metadata": {},
   "cell_type": "markdown",
   "source": "## Display",
   "id": "49a33e837556ee4e"
  },
  {
   "metadata": {},
   "cell_type": "code",
   "source": [
    "mon.write_image(f\"{output_dir}/{image_file.stem}_apsf.png\",  apsf_np)\n",
    "# mon.write_image(f\"{output_dir}/{image_file.stem}_clean.png\", clean_img)"
   ],
   "id": "524e0ce25118c24d",
   "outputs": [],
   "execution_count": null
  },
  {
   "metadata": {},
   "cell_type": "code",
   "outputs": [],
   "execution_count": null,
   "source": "",
   "id": "9121e9fa1be0c50b"
  }
 ],
 "metadata": {
  "kernelspec": {
   "display_name": "Python 3",
   "language": "python",
   "name": "python3"
  },
  "language_info": {
   "codemirror_mode": {
    "name": "ipython",
    "version": 2
   },
   "file_extension": ".py",
   "mimetype": "text/x-python",
   "name": "python",
   "nbconvert_exporter": "python",
   "pygments_lexer": "ipython2",
   "version": "2.7.6"
  }
 },
 "nbformat": 4,
 "nbformat_minor": 5
}
